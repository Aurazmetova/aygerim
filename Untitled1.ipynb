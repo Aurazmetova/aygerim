{
 "cells": [
  {
   "cell_type": "code",
   "execution_count": 8,
   "metadata": {},
   "outputs": [
    {
     "name": "stdout",
     "output_type": "stream",
     "text": [
      "There are 15 students in the class.\n",
      "In the both semester 10 courses are available for students.\n",
      "University gives 5 elective courses for willing students\n",
      "There are 14 qualified teachers in each class\n",
      "In the campus 5 rooms are available for students\n",
      "There are 3 big halls at the enterance\n",
      "In a year there are 2 semesters in the university\n"
     ]
    }
   ],
   "source": [
    "students=15\n",
    "available_courses=10\n",
    "elective_courses=5\n",
    "teachers=14\n",
    "rooms=5\n",
    "halls=3\n",
    "semester=2\n",
    "\n",
    "print(\"There are\",students,\"students in the class.\")\n",
    "print(\"In the both semester\",available_courses,\"courses are available for students.\")\n",
    "print(\"University gives\",elective_courses,\"elective courses for willing students\")\n",
    "print(\"There are\", teachers,\"qualified teachers in each class\")\n",
    "print(\"In the campus\",rooms,\"rooms are available for students\")\n",
    "print(\"There are\",halls,\"big halls at the enterance\")\n",
    "print(\"In a year there are\",semester,\"semesters in the university\")"
   ]
  },
  {
   "cell_type": "code",
   "execution_count": 9,
   "metadata": {},
   "outputs": [
    {
     "name": "stdout",
     "output_type": "stream",
     "text": [
      "This is a week 2\n"
     ]
    }
   ],
   "source": [
    "print(\"This is a week 2\")"
   ]
  },
  {
   "cell_type": "code",
   "execution_count": null,
   "metadata": {},
   "outputs": [],
   "source": [
    "your_name=input(\"What's your name?\\n\\tInput your name below:\")\n",
    "print(your_name)"
   ]
  },
  {
   "cell_type": "code",
   "execution_count": null,
   "metadata": {},
   "outputs": [],
   "source": [
    "your_name=input(\"What's your name?\\n\\tInput your name below:\")\n",
    "print(type(your_name))"
   ]
  },
  {
   "cell_type": "code",
   "execution_count": 1,
   "metadata": {},
   "outputs": [
    {
     "name": "stdout",
     "output_type": "stream",
     "text": [
      "2 things can happen to your code.\n",
      "It either works or it doesn't work.\n"
     ]
    }
   ],
   "source": [
    "things_Can_Happen_To_Code = 2\n",
    "x = f\"{things_Can_Happen_To_Code} things can happen to your code.\"\n",
    "\n",
    "scenario_1 = \"works\"\n",
    "scenario_2 = \"doesn't work\"\n",
    "y = f\"It either {scenario_1} or it {scenario_2}.\"\n",
    "\n",
    "print(x)\n",
    "print(y)"
   ]
  },
  {
   "cell_type": "code",
   "execution_count": 5,
   "metadata": {},
   "outputs": [
    {
     "name": "stdout",
     "output_type": "stream",
     "text": [
      "Mary had a little lamb.\n",
      "Its fleece was white as snow.\n",
      "AygerimAygerimAygerimAygerimAygerimAygerimAygerimAygerimAygerimAygerim\n"
     ]
    }
   ],
   "source": [
    "# more printing stuff\n",
    "\n",
    "print(\"Mary had a little lamb.\")\n",
    "color = 'snow'\n",
    "print(\"Its fleece was white as {}.\".format(color))\n",
    "print(\"Aygerim\"  *10)"
   ]
  },
  {
   "cell_type": "code",
   "execution_count": 19,
   "metadata": {},
   "outputs": [
    {
     "name": "stdout",
     "output_type": "stream",
     "text": [
      "Urazmetova\n"
     ]
    }
   ],
   "source": [
    "\n",
    "my_surname=\"Urazmetova\"\n",
    "\n",
    "print(my_surname)"
   ]
  },
  {
   "cell_type": "code",
   "execution_count": 24,
   "metadata": {},
   "outputs": [
    {
     "name": "stdout",
     "output_type": "stream",
     "text": [
      "There are 2 types of characters.\n",
      "It either introvert or it extravert.\n"
     ]
    }
   ],
   "source": [
    "types_of_characters = 2\n",
    "x =f\"There are {types_of_characters} types of characters.\"\n",
    "\n",
    "type_1 = \"introvert\"\n",
    "type_2 = \"extravert\"\n",
    "y = f\"It either {type_1} or it {type_2}.\"\n",
    "\n",
    "print(x)\n",
    "print(y)"
   ]
  },
  {
   "cell_type": "code",
   "execution_count": 31,
   "metadata": {},
   "outputs": [
    {
     "name": "stdout",
     "output_type": "stream",
     "text": [
      "Perizat has a cat.\n",
      "Its color is black \n",
      "Perizat likes her cat very well.\n",
      "Perizat Perizat Perizat Perizat Perizat Perizat Perizat \n",
      "Cheese\n",
      "       Burger\n"
     ]
    }
   ],
   "source": [
    "print(\"Perizat has a cat.\")\n",
    "color = 'black'\n",
    "print(\"Its color is {} \".format(color))\n",
    "print(\"Perizat likes her cat very well.\")\n",
    "print(\"Perizat \" * 7) # what'd that do?\n",
    "\n",
    "end1 = \"C\"\n",
    "end2 = \"h\"\n",
    "end3 = \"e\"\n",
    "end4 = \"e\"\n",
    "end5 = \"s\"\n",
    "end6 = \"e\"\n",
    "end7 = \"B\"\n",
    "end8 = \"u\"\n",
    "end9 = \"r\"\n",
    "end10 = \"g\"\n",
    "end11 = \"e\"\n",
    "end12 = \"r\"\n",
    "\n",
    "# watch end = ' ' at the end. try removing it to see what happens\n",
    "print(end1 + end2 + end3 + end4 + end5 + end6, end ='\\n       ')\n",
    "print(end7 + end8 + end9 + end10 + end11 + end12)"
   ]
  },
  {
   "cell_type": "code",
   "execution_count": 32,
   "metadata": {},
   "outputs": [
    {
     "name": "stdout",
     "output_type": "stream",
     "text": [
      "1 2 3 4 5\n",
      "one two three four five\n",
      "True False False True False\n",
      "{} {} {} {} {} {} {} {} {} {} {} {} {} {} {} {} {} {} {} {} {} {} {} {} {}\n",
      "Try your Own sentence here Maybe a poem Or a story about the legendary Python snake ;) or a pet\n"
     ]
    }
   ],
   "source": [
    "formatter = \"{} {} {} {} {}\"\n",
    "\n",
    "print(formatter.format(1,2,3,4,5))\n",
    "print(formatter.format(\"one\", \"two\", \"three\", \"four\",\"five\"))\n",
    "print(formatter.format(True, False, False, True, False))\n",
    "print(formatter.format(formatter, formatter, formatter, formatter, formatter))\n",
    "print(formatter.format(\n",
    "\"Try your\",\n",
    "\"Own sentence here\",\n",
    "\"Maybe a poem\",\n",
    "\"Or a story about the legendary Python snake ;)\",\n",
    "\"or a pet\"\n",
    "))"
   ]
  },
  {
   "cell_type": "code",
   "execution_count": 33,
   "metadata": {},
   "outputs": [
    {
     "name": "stdout",
     "output_type": "stream",
     "text": [
      "Here are the days:  Mon Tue Wed Thu Fri Sat Sun\n",
      "Here are the months:  Jan\n",
      "Feb\n",
      "Mar\n",
      "Apr\n",
      "May\n",
      "Jun\n",
      "Jul\n",
      "Aug\n",
      "\n",
      "There's something going on here.\n",
      "With the three double-quotes.\n",
      "We'll be able to type as much as we like.\n",
      "Even 4 lines if we want, or 5, or 6.\n",
      "\n"
     ]
    }
   ],
   "source": [
    "days = \"Mon Tue Wed Thu Fri Sat Sun\"\n",
    "months = \"Jan\\nFeb\\nMar\\nApr\\nMay\\nJun\\nJul\\nAug\"\n",
    "\n",
    "print(\"Here are the days: \", days)\n",
    "print(\"Here are the months: \", months)\n",
    "\n",
    "print(\"\"\"\n",
    "There's something going on here.\n",
    "With the three double-quotes.\n",
    "We'll be able to type as much as we like.\n",
    "Even 4 lines if we want, or 5, or 6.\n",
    "\"\"\")"
   ]
  },
  {
   "cell_type": "code",
   "execution_count": 43,
   "metadata": {},
   "outputs": [
    {
     "name": "stdout",
     "output_type": "stream",
     "text": [
      "I am 5'10\" tall.\n",
      "I am 5' 10\" tall.\n",
      "My current geolocation is: 41°24'12.2\"N 2°10'26.5\"E\n",
      "My current geolocation is: 41°24'12.2\"N 2°10'26.5\"E\n"
     ]
    }
   ],
   "source": [
    "print('I am 5\\'10\" tall.') \n",
    "print(\"I am 5' 10\\\" tall.\")\n",
    "print('My current geolocation is: 41°24\\'12.2\"N 2°10\\'26.5\"E') \n",
    "print(\"My current geolocation is: 41°24'12.2\\\"N 2°10'26.5\\\"E\")"
   ]
  },
  {
   "cell_type": "code",
   "execution_count": 47,
   "metadata": {},
   "outputs": [
    {
     "name": "stdout",
     "output_type": "stream",
     "text": [
      "I'm tabbed in\n",
      ".\n",
      "\tI'm split\n",
      " on a line.\n",
      "I'm \\ a \\ cat.\n",
      "\n",
      "I'll do a shopping list:\n",
      "\t* Groceries \n",
      "\t\tVeggies\n",
      "\t* Cleaning goods \n",
      "\t\tLiquid soap\n",
      "\t* Kitchenware\n",
      "\t* \tToaster\n",
      "\n"
     ]
    }
   ],
   "source": [
    "lazy_cat = \"I'm tabbed in\\n.\"\n",
    "trapped_mouse =\"\\tI'm split\\n on a line.\"\n",
    "awkward_dog = \"I'm \\\\ a \\\\ cat.\"\n",
    "\n",
    "shopping_list = \"\"\"\n",
    "I'll do a shopping list:\n",
    "\\t* Groceries \\n\\t\\tVeggies\n",
    "\\t* Cleaning goods \\n\\t\\tLiquid soap\n",
    "\\t* Kitchenware\\n\\t* \\tToaster\n",
    "\"\"\"\n",
    "\n",
    "print(lazy_cat)\n",
    "print(trapped_mouse)\n",
    "print(awkward_dog)\n",
    "print(shopping_list)"
   ]
  },
  {
   "cell_type": "code",
   "execution_count": null,
   "metadata": {},
   "outputs": [],
   "source": []
  }
 ],
 "metadata": {
  "kernelspec": {
   "display_name": "Python 3",
   "language": "python",
   "name": "python3"
  },
  "language_info": {
   "codemirror_mode": {
    "name": "ipython",
    "version": 3
   },
   "file_extension": ".py",
   "mimetype": "text/x-python",
   "name": "python",
   "nbconvert_exporter": "python",
   "pygments_lexer": "ipython3",
   "version": "3.8.5"
  }
 },
 "nbformat": 4,
 "nbformat_minor": 4
}
